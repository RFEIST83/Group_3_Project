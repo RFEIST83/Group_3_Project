{
 "cells": [
  {
   "cell_type": "code",
   "execution_count": 191,
   "id": "5b95ce23",
   "metadata": {},
   "outputs": [],
   "source": [
    "import pandas as pd \n",
    "import matplotlib \n",
    "import numpy as np \n",
    "import seaborn as sns\n",
    "import scipy.stats as stats\n",
    "from scipy.stats import pearsonr\n",
    "from scipy.stats import f_oneway, ttest_ind\n",
    "import matplotlib.pyplot as plt\n",
    "import plotly.graph_objects as go\n",
    "from sklearn.preprocessing import StandardScaler\n",
    "from sklearn.model_selection import train_test_split\n",
    "from sklearn.preprocessing import LabelEncoder\n",
    "from sklearn.impute import SimpleImputer\n",
    "from sklearn.tree import DecisionTreeClassifier"
   ]
  },
  {
   "cell_type": "markdown",
   "id": "d61ae8dc",
   "metadata": {},
   "source": [
    "### Data Load"
   ]
  },
  {
   "cell_type": "code",
   "execution_count": 192,
   "id": "deb84a7b",
   "metadata": {},
   "outputs": [],
   "source": [
    "circuits = pd.read_csv('../Group_3_Project-main/F1 CSV Datasets/circuits.csv')\n",
    "laptimes = pd.read_csv('../Group_3_Project-main/F1 CSV Datasets/lap_times.csv')\n",
    "pitstops = pd.read_csv('../Group_3_Project-main/F1 CSV Datasets/pit_stops.csv')\n",
    "seasons = pd.read_csv('../Group_3_Project-main/F1 CSV Datasets/seasons.csv')\n",
    "status = pd.read_csv('../Group_3_Project-main/F1 CSV Datasets/status.csv')\n",
    "constructor_standings = pd.read_csv('../Group_3_Project-main/F1 CSV Datasets/constructor_standings.csv')\n",
    "constructors = pd.read_csv('../Group_3_Project-main/F1 CSV Datasets/constructors.csv')\n",
    "driver_standings = pd.read_csv('../Group_3_Project-main/F1 CSV Datasets/driver_standings.csv')\n",
    "drivers = pd.read_csv('../Group_3_Project-main/F1 CSV Datasets/drivers.csv')\n",
    "races = pd.read_csv('../Group_3_Project-main/F1 CSV Datasets/races.csv')\n",
    "constructor_results = pd.read_csv('../Group_3_Project-main/F1 CSV Datasets/constructor_results.csv')\n",
    "results = pd.read_csv('../Group_3_Project-main/F1 CSV Datasets/results.csv')\n",
    "qualifying = pd.read_csv('../Group_3_Project-main/F1 CSV Datasets/qualifying.csv')\n",
    "# pd.get_option(\"display.max_columns\",None)"
   ]
  },
  {
   "cell_type": "code",
   "execution_count": 193,
   "metadata": {},
   "outputs": [
    {
     "data": {
      "text/html": [
       "<div>\n",
       "<style scoped>\n",
       "    .dataframe tbody tr th:only-of-type {\n",
       "        vertical-align: middle;\n",
       "    }\n",
       "\n",
       "    .dataframe tbody tr th {\n",
       "        vertical-align: top;\n",
       "    }\n",
       "\n",
       "    .dataframe thead th {\n",
       "        text-align: right;\n",
       "    }\n",
       "</style>\n",
       "<table border=\"1\" class=\"dataframe\">\n",
       "  <thead>\n",
       "    <tr style=\"text-align: right;\">\n",
       "      <th></th>\n",
       "      <th>resultId</th>\n",
       "      <th>raceId</th>\n",
       "      <th>driverId</th>\n",
       "      <th>constructorId</th>\n",
       "      <th>number</th>\n",
       "      <th>grid</th>\n",
       "      <th>position</th>\n",
       "      <th>positionText</th>\n",
       "      <th>positionOrder</th>\n",
       "      <th>points</th>\n",
       "      <th>laps</th>\n",
       "      <th>time</th>\n",
       "      <th>milliseconds</th>\n",
       "      <th>fastestLap</th>\n",
       "      <th>rank</th>\n",
       "      <th>fastestLapTime</th>\n",
       "      <th>fastestLapSpeed</th>\n",
       "      <th>statusId</th>\n",
       "    </tr>\n",
       "  </thead>\n",
       "  <tbody>\n",
       "    <tr>\n",
       "      <th>0</th>\n",
       "      <td>1</td>\n",
       "      <td>18</td>\n",
       "      <td>1</td>\n",
       "      <td>1</td>\n",
       "      <td>22</td>\n",
       "      <td>1</td>\n",
       "      <td>1</td>\n",
       "      <td>1</td>\n",
       "      <td>1</td>\n",
       "      <td>10.0</td>\n",
       "      <td>58</td>\n",
       "      <td>1:34:50.616</td>\n",
       "      <td>5690616</td>\n",
       "      <td>39</td>\n",
       "      <td>2</td>\n",
       "      <td>1:27.452</td>\n",
       "      <td>218.300</td>\n",
       "      <td>1</td>\n",
       "    </tr>\n",
       "    <tr>\n",
       "      <th>1</th>\n",
       "      <td>2</td>\n",
       "      <td>18</td>\n",
       "      <td>2</td>\n",
       "      <td>2</td>\n",
       "      <td>3</td>\n",
       "      <td>5</td>\n",
       "      <td>2</td>\n",
       "      <td>2</td>\n",
       "      <td>2</td>\n",
       "      <td>8.0</td>\n",
       "      <td>58</td>\n",
       "      <td>+5.478</td>\n",
       "      <td>5696094</td>\n",
       "      <td>41</td>\n",
       "      <td>3</td>\n",
       "      <td>1:27.739</td>\n",
       "      <td>217.586</td>\n",
       "      <td>1</td>\n",
       "    </tr>\n",
       "    <tr>\n",
       "      <th>2</th>\n",
       "      <td>3</td>\n",
       "      <td>18</td>\n",
       "      <td>3</td>\n",
       "      <td>3</td>\n",
       "      <td>7</td>\n",
       "      <td>7</td>\n",
       "      <td>3</td>\n",
       "      <td>3</td>\n",
       "      <td>3</td>\n",
       "      <td>6.0</td>\n",
       "      <td>58</td>\n",
       "      <td>+8.163</td>\n",
       "      <td>5698779</td>\n",
       "      <td>41</td>\n",
       "      <td>5</td>\n",
       "      <td>1:28.090</td>\n",
       "      <td>216.719</td>\n",
       "      <td>1</td>\n",
       "    </tr>\n",
       "    <tr>\n",
       "      <th>3</th>\n",
       "      <td>4</td>\n",
       "      <td>18</td>\n",
       "      <td>4</td>\n",
       "      <td>4</td>\n",
       "      <td>5</td>\n",
       "      <td>11</td>\n",
       "      <td>4</td>\n",
       "      <td>4</td>\n",
       "      <td>4</td>\n",
       "      <td>5.0</td>\n",
       "      <td>58</td>\n",
       "      <td>+17.181</td>\n",
       "      <td>5707797</td>\n",
       "      <td>58</td>\n",
       "      <td>7</td>\n",
       "      <td>1:28.603</td>\n",
       "      <td>215.464</td>\n",
       "      <td>1</td>\n",
       "    </tr>\n",
       "    <tr>\n",
       "      <th>4</th>\n",
       "      <td>5</td>\n",
       "      <td>18</td>\n",
       "      <td>5</td>\n",
       "      <td>1</td>\n",
       "      <td>23</td>\n",
       "      <td>3</td>\n",
       "      <td>5</td>\n",
       "      <td>5</td>\n",
       "      <td>5</td>\n",
       "      <td>4.0</td>\n",
       "      <td>58</td>\n",
       "      <td>+18.014</td>\n",
       "      <td>5708630</td>\n",
       "      <td>43</td>\n",
       "      <td>1</td>\n",
       "      <td>1:27.418</td>\n",
       "      <td>218.385</td>\n",
       "      <td>1</td>\n",
       "    </tr>\n",
       "  </tbody>\n",
       "</table>\n",
       "</div>"
      ],
      "text/plain": [
       "   resultId  raceId  driverId  constructorId number  grid position  \\\n",
       "0         1      18         1              1     22     1        1   \n",
       "1         2      18         2              2      3     5        2   \n",
       "2         3      18         3              3      7     7        3   \n",
       "3         4      18         4              4      5    11        4   \n",
       "4         5      18         5              1     23     3        5   \n",
       "\n",
       "  positionText  positionOrder  points  laps         time milliseconds  \\\n",
       "0            1              1    10.0    58  1:34:50.616      5690616   \n",
       "1            2              2     8.0    58       +5.478      5696094   \n",
       "2            3              3     6.0    58       +8.163      5698779   \n",
       "3            4              4     5.0    58      +17.181      5707797   \n",
       "4            5              5     4.0    58      +18.014      5708630   \n",
       "\n",
       "  fastestLap rank fastestLapTime fastestLapSpeed  statusId  \n",
       "0         39    2       1:27.452         218.300         1  \n",
       "1         41    3       1:27.739         217.586         1  \n",
       "2         41    5       1:28.090         216.719         1  \n",
       "3         58    7       1:28.603         215.464         1  \n",
       "4         43    1       1:27.418         218.385         1  "
      ]
     },
     "execution_count": 193,
     "metadata": {},
     "output_type": "execute_result"
    }
   ],
   "source": [
    "results.head(5)"
   ]
  },
  {
   "cell_type": "code",
   "execution_count": 194,
   "metadata": {},
   "outputs": [
    {
     "data": {
      "text/plain": [
       "resultId             int64\n",
       "raceId               int64\n",
       "driverId             int64\n",
       "constructorId        int64\n",
       "number              object\n",
       "grid                 int64\n",
       "position            object\n",
       "positionText        object\n",
       "positionOrder        int64\n",
       "points             float64\n",
       "laps                 int64\n",
       "time                object\n",
       "milliseconds        object\n",
       "fastestLap          object\n",
       "rank                object\n",
       "fastestLapTime      object\n",
       "fastestLapSpeed     object\n",
       "statusId             int64\n",
       "dtype: object"
      ]
     },
     "execution_count": 194,
     "metadata": {},
     "output_type": "execute_result"
    }
   ],
   "source": [
    "results.dtypes"
   ]
  },
  {
   "cell_type": "code",
   "execution_count": 195,
   "metadata": {},
   "outputs": [
    {
     "data": {
      "text/html": [
       "<div>\n",
       "<style scoped>\n",
       "    .dataframe tbody tr th:only-of-type {\n",
       "        vertical-align: middle;\n",
       "    }\n",
       "\n",
       "    .dataframe tbody tr th {\n",
       "        vertical-align: top;\n",
       "    }\n",
       "\n",
       "    .dataframe thead th {\n",
       "        text-align: right;\n",
       "    }\n",
       "</style>\n",
       "<table border=\"1\" class=\"dataframe\">\n",
       "  <thead>\n",
       "    <tr style=\"text-align: right;\">\n",
       "      <th></th>\n",
       "      <th>resultId</th>\n",
       "      <th>raceId</th>\n",
       "      <th>driverId</th>\n",
       "      <th>constructorId</th>\n",
       "      <th>grid</th>\n",
       "      <th>positionOrder</th>\n",
       "      <th>points</th>\n",
       "      <th>laps</th>\n",
       "      <th>statusId</th>\n",
       "    </tr>\n",
       "  </thead>\n",
       "  <tbody>\n",
       "    <tr>\n",
       "      <th>count</th>\n",
       "      <td>26080.000000</td>\n",
       "      <td>26080.000000</td>\n",
       "      <td>26080.000000</td>\n",
       "      <td>26080.000000</td>\n",
       "      <td>26080.000000</td>\n",
       "      <td>26080.000000</td>\n",
       "      <td>26080.000000</td>\n",
       "      <td>26080.000000</td>\n",
       "      <td>26080.000000</td>\n",
       "    </tr>\n",
       "    <tr>\n",
       "      <th>mean</th>\n",
       "      <td>13041.372661</td>\n",
       "      <td>536.695667</td>\n",
       "      <td>266.277569</td>\n",
       "      <td>49.059663</td>\n",
       "      <td>11.167561</td>\n",
       "      <td>12.854141</td>\n",
       "      <td>1.906635</td>\n",
       "      <td>46.076687</td>\n",
       "      <td>17.476074</td>\n",
       "    </tr>\n",
       "    <tr>\n",
       "      <th>std</th>\n",
       "      <td>7530.008377</td>\n",
       "      <td>303.034639</td>\n",
       "      <td>272.581622</td>\n",
       "      <td>60.221056</td>\n",
       "      <td>7.232797</td>\n",
       "      <td>7.700068</td>\n",
       "      <td>4.219715</td>\n",
       "      <td>29.726058</td>\n",
       "      <td>26.129965</td>\n",
       "    </tr>\n",
       "    <tr>\n",
       "      <th>min</th>\n",
       "      <td>1.000000</td>\n",
       "      <td>1.000000</td>\n",
       "      <td>1.000000</td>\n",
       "      <td>1.000000</td>\n",
       "      <td>0.000000</td>\n",
       "      <td>1.000000</td>\n",
       "      <td>0.000000</td>\n",
       "      <td>0.000000</td>\n",
       "      <td>1.000000</td>\n",
       "    </tr>\n",
       "    <tr>\n",
       "      <th>25%</th>\n",
       "      <td>6520.750000</td>\n",
       "      <td>294.750000</td>\n",
       "      <td>57.000000</td>\n",
       "      <td>6.000000</td>\n",
       "      <td>5.000000</td>\n",
       "      <td>6.000000</td>\n",
       "      <td>0.000000</td>\n",
       "      <td>22.000000</td>\n",
       "      <td>1.000000</td>\n",
       "    </tr>\n",
       "    <tr>\n",
       "      <th>50%</th>\n",
       "      <td>13040.500000</td>\n",
       "      <td>519.000000</td>\n",
       "      <td>163.000000</td>\n",
       "      <td>25.000000</td>\n",
       "      <td>11.000000</td>\n",
       "      <td>12.000000</td>\n",
       "      <td>0.000000</td>\n",
       "      <td>53.000000</td>\n",
       "      <td>10.000000</td>\n",
       "    </tr>\n",
       "    <tr>\n",
       "      <th>75%</th>\n",
       "      <td>19560.250000</td>\n",
       "      <td>791.000000</td>\n",
       "      <td>364.000000</td>\n",
       "      <td>58.250000</td>\n",
       "      <td>17.000000</td>\n",
       "      <td>18.000000</td>\n",
       "      <td>2.000000</td>\n",
       "      <td>66.000000</td>\n",
       "      <td>14.000000</td>\n",
       "    </tr>\n",
       "    <tr>\n",
       "      <th>max</th>\n",
       "      <td>26085.000000</td>\n",
       "      <td>1110.000000</td>\n",
       "      <td>858.000000</td>\n",
       "      <td>214.000000</td>\n",
       "      <td>34.000000</td>\n",
       "      <td>39.000000</td>\n",
       "      <td>50.000000</td>\n",
       "      <td>200.000000</td>\n",
       "      <td>141.000000</td>\n",
       "    </tr>\n",
       "  </tbody>\n",
       "</table>\n",
       "</div>"
      ],
      "text/plain": [
       "           resultId        raceId      driverId  constructorId          grid  \\\n",
       "count  26080.000000  26080.000000  26080.000000   26080.000000  26080.000000   \n",
       "mean   13041.372661    536.695667    266.277569      49.059663     11.167561   \n",
       "std     7530.008377    303.034639    272.581622      60.221056      7.232797   \n",
       "min        1.000000      1.000000      1.000000       1.000000      0.000000   \n",
       "25%     6520.750000    294.750000     57.000000       6.000000      5.000000   \n",
       "50%    13040.500000    519.000000    163.000000      25.000000     11.000000   \n",
       "75%    19560.250000    791.000000    364.000000      58.250000     17.000000   \n",
       "max    26085.000000   1110.000000    858.000000     214.000000     34.000000   \n",
       "\n",
       "       positionOrder        points          laps      statusId  \n",
       "count   26080.000000  26080.000000  26080.000000  26080.000000  \n",
       "mean       12.854141      1.906635     46.076687     17.476074  \n",
       "std         7.700068      4.219715     29.726058     26.129965  \n",
       "min         1.000000      0.000000      0.000000      1.000000  \n",
       "25%         6.000000      0.000000     22.000000      1.000000  \n",
       "50%        12.000000      0.000000     53.000000     10.000000  \n",
       "75%        18.000000      2.000000     66.000000     14.000000  \n",
       "max        39.000000     50.000000    200.000000    141.000000  "
      ]
     },
     "execution_count": 195,
     "metadata": {},
     "output_type": "execute_result"
    }
   ],
   "source": [
    "results.describe()"
   ]
  },
  {
   "cell_type": "code",
   "execution_count": 196,
   "metadata": {},
   "outputs": [
    {
     "data": {
      "text/plain": [
       "Index(['resultId', 'raceId', 'driverId', 'constructorId', 'number', 'grid',\n",
       "       'position', 'positionText', 'positionOrder', 'points', 'laps', 'time',\n",
       "       'milliseconds', 'fastestLap', 'rank', 'fastestLapTime',\n",
       "       'fastestLapSpeed', 'statusId'],\n",
       "      dtype='object')"
      ]
     },
     "execution_count": 196,
     "metadata": {},
     "output_type": "execute_result"
    }
   ],
   "source": [
    "results.columns"
   ]
  },
  {
   "cell_type": "code",
   "execution_count": 197,
   "metadata": {},
   "outputs": [
    {
     "data": {
      "text/plain": [
       "resultId           0\n",
       "raceId             0\n",
       "driverId           0\n",
       "constructorId      0\n",
       "number             0\n",
       "grid               0\n",
       "position           0\n",
       "positionText       0\n",
       "positionOrder      0\n",
       "points             0\n",
       "laps               0\n",
       "time               0\n",
       "milliseconds       0\n",
       "fastestLap         0\n",
       "rank               0\n",
       "fastestLapTime     0\n",
       "fastestLapSpeed    0\n",
       "statusId           0\n",
       "dtype: int64"
      ]
     },
     "execution_count": 197,
     "metadata": {},
     "output_type": "execute_result"
    }
   ],
   "source": [
    "results.isna().sum()"
   ]
  },
  {
   "cell_type": "code",
   "execution_count": 198,
   "metadata": {},
   "outputs": [],
   "source": [
    "# .get_option(\"display.max_columns\",None)\n",
    "races = races.rename(columns={'name': 'racename'})\n",
    "\n",
    "# Merge the DataFrames\n",
    "HW = pd.merge(results, races[['raceId', 'year', 'racename', 'round', 'date']], on='raceId', how='left')\n",
    "HW = pd.merge(HW, drivers[['driverId', 'driverRef', 'forename', 'surname', 'nationality', 'dob']], on='driverId', how='left')\n",
    "HW = pd.merge(HW, constructors[['constructorId', 'name', 'nationality']], on='constructorId', how='left')\n",
    "HW = pd.merge(HW, status[['statusId', 'status']], on='statusId', how='left')\n",
    "\n",
    "# Set display option to show all columns\n",
    "pd.set_option(\"display.max_columns\", None)"
   ]
  },
  {
   "cell_type": "code",
   "execution_count": 199,
   "metadata": {},
   "outputs": [
    {
     "data": {
      "text/plain": [
       "1091"
      ]
     },
     "execution_count": 199,
     "metadata": {},
     "output_type": "execute_result"
    }
   ],
   "source": [
    "HW.groupby('racename')['raceId'].nunique().sum()"
   ]
  },
  {
   "cell_type": "code",
   "execution_count": 200,
   "metadata": {},
   "outputs": [
    {
     "data": {
      "text/html": [
       "<div>\n",
       "<style scoped>\n",
       "    .dataframe tbody tr th:only-of-type {\n",
       "        vertical-align: middle;\n",
       "    }\n",
       "\n",
       "    .dataframe tbody tr th {\n",
       "        vertical-align: top;\n",
       "    }\n",
       "\n",
       "    .dataframe thead th {\n",
       "        text-align: right;\n",
       "    }\n",
       "</style>\n",
       "<table border=\"1\" class=\"dataframe\">\n",
       "  <thead>\n",
       "    <tr style=\"text-align: right;\">\n",
       "      <th></th>\n",
       "      <th>racename</th>\n",
       "      <th># Races</th>\n",
       "    </tr>\n",
       "  </thead>\n",
       "  <tbody>\n",
       "    <tr>\n",
       "      <th>9</th>\n",
       "      <td>British Grand Prix</td>\n",
       "      <td>74</td>\n",
       "    </tr>\n",
       "    <tr>\n",
       "      <th>24</th>\n",
       "      <td>Italian Grand Prix</td>\n",
       "      <td>73</td>\n",
       "    </tr>\n",
       "    <tr>\n",
       "      <th>32</th>\n",
       "      <td>Monaco Grand Prix</td>\n",
       "      <td>69</td>\n",
       "    </tr>\n",
       "    <tr>\n",
       "      <th>7</th>\n",
       "      <td>Belgian Grand Prix</td>\n",
       "      <td>68</td>\n",
       "    </tr>\n",
       "    <tr>\n",
       "      <th>20</th>\n",
       "      <td>German Grand Prix</td>\n",
       "      <td>64</td>\n",
       "    </tr>\n",
       "  </tbody>\n",
       "</table>\n",
       "</div>"
      ],
      "text/plain": [
       "              racename  # Races\n",
       "9   British Grand Prix       74\n",
       "24  Italian Grand Prix       73\n",
       "32   Monaco Grand Prix       69\n",
       "7   Belgian Grand Prix       68\n",
       "20   German Grand Prix       64"
      ]
     },
     "execution_count": 200,
     "metadata": {},
     "output_type": "execute_result"
    }
   ],
   "source": [
    "# Getting a count of races from 1950 - 2023 and sorted in descending and fitered to top 5 Races \n",
    "races = HW.groupby('racename')['raceId'].nunique().reset_index(name='# Races').sort_values(by='# Races', ascending=False)\n",
    "_numRaces = races.head(5)\n",
    "_numRaces"
   ]
  },
  {
   "cell_type": "code",
   "execution_count": 201,
   "metadata": {},
   "outputs": [
    {
     "data": {
      "image/png": "[encoded data removed]",
      "text/plain": [
       "<Figure size 1000x600 with 1 Axes>"
      ]
     },
     "metadata": {},
     "output_type": "display_data"
    }
   ],
   "source": [
    "# Get the values for coloring\n",
    "values = _numRaces['# Races']\n",
    "\n",
    "# Creating a color gradient based on the values\n",
    "colors = plt.cm.viridis(values / float(max(values)))  # Using viridis colormap\n",
    "\n",
    "# Plotting the bar chart with gradient colors\n",
    "plt.figure(figsize=(10, 6))\n",
    "bars = plt.bar(_numRaces['racename'], _numRaces['# Races'], color=colors)\n",
    "plt.xlabel('Racename')\n",
    "plt.ylabel('Number of Races')\n",
    "plt.title('Total number of Races in Top 5 Circuits 1950-2023')\n",
    "plt.xticks(rotation=45)\n",
    "plt.tight_layout()\n",
    "\n",
    "# Adding data labels to each bar\n",
    "for bar, value in zip(bars, values):\n",
    "    plt.text(bar.get_x() + bar.get_width() / 2, bar.get_height(), str(value), ha='center', va='bottom')\n",
    "\n",
    "# Show plot\n",
    "plt.show()"
   ]
  },
  {
   "cell_type": "code",
   "execution_count": 202,
   "metadata": {},
   "outputs": [],
   "source": [
    "# defining a list of top 5 races to be passed on to filter dataframe.\n",
    "racename_list = ['British Grand Prix',\n",
    "              'Italian Grand Prix',\n",
    "              'Monaco Grand Prix',\n",
    "              'Belgian Grand Prix',\n",
    "              'German Grand Prix']"
   ]
  },
  {
   "cell_type": "code",
   "execution_count": 203,
   "metadata": {},
   "outputs": [],
   "source": [
    "# filtering the dataframne to Top 5 Race Circuits\n",
    "filtered_df = HW[(HW['racename'].isin(racename_list))]"
   ]
  },
  {
   "cell_type": "code",
   "execution_count": 204,
   "metadata": {},
   "outputs": [
    {
     "data": {
      "text/html": [
       "<div>\n",
       "<style scoped>\n",
       "    .dataframe tbody tr th:only-of-type {\n",
       "        vertical-align: middle;\n",
       "    }\n",
       "\n",
       "    .dataframe tbody tr th {\n",
       "        vertical-align: top;\n",
       "    }\n",
       "\n",
       "    .dataframe thead th {\n",
       "        text-align: right;\n",
       "    }\n",
       "</style>\n",
       "<table border=\"1\" class=\"dataframe\">\n",
       "  <thead>\n",
       "    <tr style=\"text-align: right;\">\n",
       "      <th></th>\n",
       "      <th>resultId</th>\n",
       "      <th>raceId</th>\n",
       "      <th>driverId</th>\n",
       "      <th>constructorId</th>\n",
       "      <th>number</th>\n",
       "      <th>grid</th>\n",
       "      <th>position</th>\n",
       "      <th>positionText</th>\n",
       "      <th>positionOrder</th>\n",
       "      <th>points</th>\n",
       "      <th>laps</th>\n",
       "      <th>time</th>\n",
       "      <th>milliseconds</th>\n",
       "      <th>fastestLap</th>\n",
       "      <th>rank</th>\n",
       "      <th>fastestLapTime</th>\n",
       "      <th>fastestLapSpeed</th>\n",
       "      <th>statusId</th>\n",
       "      <th>year</th>\n",
       "      <th>racename</th>\n",
       "      <th>round</th>\n",
       "      <th>date</th>\n",
       "      <th>driverRef</th>\n",
       "      <th>forename</th>\n",
       "      <th>surname</th>\n",
       "      <th>nationality_x</th>\n",
       "      <th>dob</th>\n",
       "      <th>name</th>\n",
       "      <th>nationality_y</th>\n",
       "      <th>status</th>\n",
       "    </tr>\n",
       "  </thead>\n",
       "  <tbody>\n",
       "    <tr>\n",
       "      <th>122</th>\n",
       "      <td>123</td>\n",
       "      <td>23</td>\n",
       "      <td>16</td>\n",
       "      <td>10</td>\n",
       "      <td>20</td>\n",
       "      <td>18</td>\n",
       "      <td>\\N</td>\n",
       "      <td>R</td>\n",
       "      <td>15</td>\n",
       "      <td>0.0</td>\n",
       "      <td>67</td>\n",
       "      <td>\\N</td>\n",
       "      <td>\\N</td>\n",
       "      <td>60</td>\n",
       "      <td>16</td>\n",
       "      <td>1:22.039</td>\n",
       "      <td>146.564</td>\n",
       "      <td>4</td>\n",
       "      <td>2008</td>\n",
       "      <td>Monaco Grand Prix</td>\n",
       "      <td>6</td>\n",
       "      <td>2008-05-25</td>\n",
       "      <td>sutil</td>\n",
       "      <td>Adrian</td>\n",
       "      <td>Sutil</td>\n",
       "      <td>German</td>\n",
       "      <td>1983-01-11</td>\n",
       "      <td>Force India</td>\n",
       "      <td>Indian</td>\n",
       "      <td>Collision</td>\n",
       "    </tr>\n",
       "    <tr>\n",
       "      <th>123</th>\n",
       "      <td>124</td>\n",
       "      <td>23</td>\n",
       "      <td>3</td>\n",
       "      <td>3</td>\n",
       "      <td>7</td>\n",
       "      <td>6</td>\n",
       "      <td>\\N</td>\n",
       "      <td>R</td>\n",
       "      <td>16</td>\n",
       "      <td>0.0</td>\n",
       "      <td>59</td>\n",
       "      <td>\\N</td>\n",
       "      <td>\\N</td>\n",
       "      <td>58</td>\n",
       "      <td>15</td>\n",
       "      <td>1:21.270</td>\n",
       "      <td>147.951</td>\n",
       "      <td>3</td>\n",
       "      <td>2008</td>\n",
       "      <td>Monaco Grand Prix</td>\n",
       "      <td>6</td>\n",
       "      <td>2008-05-25</td>\n",
       "      <td>rosberg</td>\n",
       "      <td>Nico</td>\n",
       "      <td>Rosberg</td>\n",
       "      <td>German</td>\n",
       "      <td>1985-06-27</td>\n",
       "      <td>Williams</td>\n",
       "      <td>British</td>\n",
       "      <td>Accident</td>\n",
       "    </tr>\n",
       "  </tbody>\n",
       "</table>\n",
       "</div>"
      ],
      "text/plain": [
       "     resultId  raceId  driverId  constructorId number  grid position  \\\n",
       "122       123      23        16             10     20    18       \\N   \n",
       "123       124      23         3              3      7     6       \\N   \n",
       "\n",
       "    positionText  positionOrder  points  laps time milliseconds fastestLap  \\\n",
       "122            R             15     0.0    67   \\N           \\N         60   \n",
       "123            R             16     0.0    59   \\N           \\N         58   \n",
       "\n",
       "    rank fastestLapTime fastestLapSpeed  statusId  year           racename  \\\n",
       "122   16       1:22.039         146.564         4  2008  Monaco Grand Prix   \n",
       "123   15       1:21.270         147.951         3  2008  Monaco Grand Prix   \n",
       "\n",
       "     round        date driverRef forename  surname nationality_x         dob  \\\n",
       "122      6  2008-05-25     sutil   Adrian    Sutil        German  1983-01-11   \n",
       "123      6  2008-05-25   rosberg     Nico  Rosberg        German  1985-06-27   \n",
       "\n",
       "            name nationality_y     status  \n",
       "122  Force India        Indian  Collision  \n",
       "123     Williams       British   Accident  "
      ]
     },
     "execution_count": 204,
     "metadata": {},
     "output_type": "execute_result"
    }
   ],
   "source": [
    "# filtered the dataframe by the StatusId = 3,4 i.e collisions and accidents and top 5 races.\n",
    "accidents_top5 = filtered_df[(filtered_df['statusId'].isin([3, 4]))]\n",
    "accidents_top5.head(2)"
   ]
  },
  {
   "cell_type": "code",
   "execution_count": 205,
   "metadata": {},
   "outputs": [
    {
     "data": {
      "text/plain": [
       "Index(['resultId', 'raceId', 'driverId', 'constructorId', 'number', 'grid',\n",
       "       'position', 'positionText', 'positionOrder', 'points', 'laps', 'time',\n",
       "       'milliseconds', 'fastestLap', 'rank', 'fastestLapTime',\n",
       "       'fastestLapSpeed', 'statusId', 'year', 'racename', 'round', 'date',\n",
       "       'driverRef', 'forename', 'surname', 'nationality_x', 'dob', 'name',\n",
       "       'nationality_y', 'status'],\n",
       "      dtype='object')"
      ]
     },
     "execution_count": 205,
     "metadata": {},
     "output_type": "execute_result"
    }
   ],
   "source": [
    "accidents_top5.columns"
   ]
  },
  {
   "cell_type": "code",
   "execution_count": 206,
   "metadata": {},
   "outputs": [],
   "source": [
    "# Grouping by 'racename' column and getting a count of the collisions and accidents.\n",
    "_numAccidents = accidents_top5.groupby('racename')['raceId'].count().reset_index(name='Accidents/collisions').sort_values(by='Accidents/collisions', ascending=False)\n"
   ]
  },
  {
   "cell_type": "code",
   "execution_count": 207,
   "metadata": {},
   "outputs": [
    {
     "data": {
      "text/html": [
       "<div>\n",
       "<style scoped>\n",
       "    .dataframe tbody tr th:only-of-type {\n",
       "        vertical-align: middle;\n",
       "    }\n",
       "\n",
       "    .dataframe tbody tr th {\n",
       "        vertical-align: top;\n",
       "    }\n",
       "\n",
       "    .dataframe thead th {\n",
       "        text-align: right;\n",
       "    }\n",
       "</style>\n",
       "<table border=\"1\" class=\"dataframe\">\n",
       "  <thead>\n",
       "    <tr style=\"text-align: right;\">\n",
       "      <th></th>\n",
       "      <th>racename</th>\n",
       "      <th>Accidents/collisions</th>\n",
       "    </tr>\n",
       "  </thead>\n",
       "  <tbody>\n",
       "    <tr>\n",
       "      <th>4</th>\n",
       "      <td>Monaco Grand Prix</td>\n",
       "      <td>191</td>\n",
       "    </tr>\n",
       "    <tr>\n",
       "      <th>0</th>\n",
       "      <td>Belgian Grand Prix</td>\n",
       "      <td>144</td>\n",
       "    </tr>\n",
       "    <tr>\n",
       "      <th>2</th>\n",
       "      <td>German Grand Prix</td>\n",
       "      <td>115</td>\n",
       "    </tr>\n",
       "    <tr>\n",
       "      <th>1</th>\n",
       "      <td>British Grand Prix</td>\n",
       "      <td>109</td>\n",
       "    </tr>\n",
       "    <tr>\n",
       "      <th>3</th>\n",
       "      <td>Italian Grand Prix</td>\n",
       "      <td>94</td>\n",
       "    </tr>\n",
       "  </tbody>\n",
       "</table>\n",
       "</div>"
      ],
      "text/plain": [
       "             racename  Accidents/collisions\n",
       "4   Monaco Grand Prix                   191\n",
       "0  Belgian Grand Prix                   144\n",
       "2   German Grand Prix                   115\n",
       "1  British Grand Prix                   109\n",
       "3  Italian Grand Prix                    94"
      ]
     },
     "execution_count": 207,
     "metadata": {},
     "output_type": "execute_result"
    }
   ],
   "source": [
    "_numAccidents.head(5)"
   ]
  },
  {
   "cell_type": "code",
   "execution_count": 208,
   "metadata": {},
   "outputs": [
    {
     "data": {
      "image/png": "[encoded data removed]",
      "text/plain": [
       "<Figure size 1000x600 with 1 Axes>"
      ]
     },
     "metadata": {},
     "output_type": "display_data"
    }
   ],
   "source": [
    "# Get the values for coloring\n",
    "values = _numAccidents['Accidents/collisions']\n",
    "\n",
    "# Creating a color gradient based on the values\n",
    "colors = plt.cm.viridis(values / float(max(values)))  # Using viridis colormap\n",
    "\n",
    "# Plotting the bar chart with gradient colors\n",
    "plt.figure(figsize=(10, 6))\n",
    "bars = plt.bar(_numAccidents['racename'], _numAccidents['Accidents/collisions'], color=colors)\n",
    "plt.xlabel('Racename')\n",
    "plt.ylabel('Number of Accidents/Collisions')\n",
    "plt.title('Total Number of Accidents/Collisions in Top 5 Race Circuits')\n",
    "plt.xticks(rotation=45)\n",
    "plt.tight_layout()\n",
    "\n",
    "# Adding data labels to each bar\n",
    "for bar, value in zip(bars, values):\n",
    "    plt.text(bar.get_x() + bar.get_width() / 2, bar.get_height(), str(value), ha='center', va='bottom')\n",
    "\n",
    "# Show plot\n",
    "plt.show()"
   ]
  },
  {
   "cell_type": "code",
   "execution_count": 209,
   "metadata": {},
   "outputs": [
    {
     "data": {
      "text/html": [
       "<div>\n",
       "<style scoped>\n",
       "    .dataframe tbody tr th:only-of-type {\n",
       "        vertical-align: middle;\n",
       "    }\n",
       "\n",
       "    .dataframe tbody tr th {\n",
       "        vertical-align: top;\n",
       "    }\n",
       "\n",
       "    .dataframe thead th {\n",
       "        text-align: right;\n",
       "    }\n",
       "</style>\n",
       "<table border=\"1\" class=\"dataframe\">\n",
       "  <thead>\n",
       "    <tr style=\"text-align: right;\">\n",
       "      <th></th>\n",
       "      <th>name</th>\n",
       "      <th># Races</th>\n",
       "    </tr>\n",
       "  </thead>\n",
       "  <tbody>\n",
       "    <tr>\n",
       "      <th>60</th>\n",
       "      <td>Ferrari</td>\n",
       "      <td>342</td>\n",
       "    </tr>\n",
       "    <tr>\n",
       "      <th>111</th>\n",
       "      <td>McLaren</td>\n",
       "      <td>254</td>\n",
       "    </tr>\n",
       "    <tr>\n",
       "      <th>164</th>\n",
       "      <td>Williams</td>\n",
       "      <td>224</td>\n",
       "    </tr>\n",
       "    <tr>\n",
       "      <th>160</th>\n",
       "      <td>Tyrrell</td>\n",
       "      <td>138</td>\n",
       "    </tr>\n",
       "    <tr>\n",
       "      <th>152</th>\n",
       "      <td>Team Lotus</td>\n",
       "      <td>132</td>\n",
       "    </tr>\n",
       "  </tbody>\n",
       "</table>\n",
       "</div>"
      ],
      "text/plain": [
       "           name  # Races\n",
       "60      Ferrari      342\n",
       "111     McLaren      254\n",
       "164    Williams      224\n",
       "160     Tyrrell      138\n",
       "152  Team Lotus      132"
      ]
     },
     "execution_count": 209,
     "metadata": {},
     "output_type": "execute_result"
    }
   ],
   "source": [
    "# Total number of races by the top 5 constructors who participated in the top 5 races.\n",
    "_numRaces_byConst_top5 = filtered_df.groupby('name')['raceId'].nunique().reset_index(name='# Races').sort_values(by='# Races', ascending=False).head(5)\n",
    "_numRaces_byConst_top5\n"
   ]
  },
  {
   "cell_type": "code",
   "execution_count": 210,
   "metadata": {},
   "outputs": [
    {
     "data": {
      "text/html": [
       "<div>\n",
       "<style scoped>\n",
       "    .dataframe tbody tr th:only-of-type {\n",
       "        vertical-align: middle;\n",
       "    }\n",
       "\n",
       "    .dataframe tbody tr th {\n",
       "        vertical-align: top;\n",
       "    }\n",
       "\n",
       "    .dataframe thead th {\n",
       "        text-align: right;\n",
       "    }\n",
       "</style>\n",
       "<table border=\"1\" class=\"dataframe\">\n",
       "  <thead>\n",
       "    <tr style=\"text-align: right;\">\n",
       "      <th></th>\n",
       "      <th>name</th>\n",
       "      <th># Accidents/Collisions</th>\n",
       "    </tr>\n",
       "  </thead>\n",
       "  <tbody>\n",
       "    <tr>\n",
       "      <th>25</th>\n",
       "      <td>Ferrari</td>\n",
       "      <td>58</td>\n",
       "    </tr>\n",
       "    <tr>\n",
       "      <th>52</th>\n",
       "      <td>McLaren</td>\n",
       "      <td>48</td>\n",
       "    </tr>\n",
       "    <tr>\n",
       "      <th>86</th>\n",
       "      <td>Williams</td>\n",
       "      <td>33</td>\n",
       "    </tr>\n",
       "    <tr>\n",
       "      <th>68</th>\n",
       "      <td>Sauber</td>\n",
       "      <td>29</td>\n",
       "    </tr>\n",
       "    <tr>\n",
       "      <th>84</th>\n",
       "      <td>Tyrrell</td>\n",
       "      <td>22</td>\n",
       "    </tr>\n",
       "  </tbody>\n",
       "</table>\n",
       "</div>"
      ],
      "text/plain": [
       "        name  # Accidents/Collisions\n",
       "25   Ferrari                      58\n",
       "52   McLaren                      48\n",
       "86  Williams                      33\n",
       "68    Sauber                      29\n",
       "84   Tyrrell                      22"
      ]
     },
     "execution_count": 210,
     "metadata": {},
     "output_type": "execute_result"
    }
   ],
   "source": [
    "# Grouping by 'Constructor name' column and summing up the values\n",
    "_numAccidents_byConst_top5 = accidents_top5.groupby('name')['raceId'].nunique().reset_index(name='# Accidents/Collisions').sort_values(by='# Accidents/Collisions', ascending=False).head(5)\n",
    "_numAccidents_byConst_top5"
   ]
  },
  {
   "cell_type": "code",
   "execution_count": 211,
   "metadata": {},
   "outputs": [],
   "source": [
    "# Merge the DataFrames on the 'name' column\n",
    "merged_df = pd.merge(_numAccidents_byConst_top5, _numRaces_byConst_top5, on='name')\n",
    "\n",
    "# Calculate the ratio of accidents to races for the top 5 constructors\n",
    "merged_df['Accidents-to-Races Ratio'] = np.round((merged_df['# Accidents/Collisions'] / merged_df['# Races'])*100, 1)"
   ]
  },
  {
   "cell_type": "code",
   "execution_count": 212,
   "metadata": {},
   "outputs": [
    {
     "data": {
      "text/html": [
       "<div>\n",
       "<style scoped>\n",
       "    .dataframe tbody tr th:only-of-type {\n",
       "        vertical-align: middle;\n",
       "    }\n",
       "\n",
       "    .dataframe tbody tr th {\n",
       "        vertical-align: top;\n",
       "    }\n",
       "\n",
       "    .dataframe thead th {\n",
       "        text-align: right;\n",
       "    }\n",
       "</style>\n",
       "<table border=\"1\" class=\"dataframe\">\n",
       "  <thead>\n",
       "    <tr style=\"text-align: right;\">\n",
       "      <th></th>\n",
       "      <th>name</th>\n",
       "      <th># Accidents/Collisions</th>\n",
       "      <th># Races</th>\n",
       "      <th>Accidents-to-Races Ratio</th>\n",
       "    </tr>\n",
       "  </thead>\n",
       "  <tbody>\n",
       "    <tr>\n",
       "      <th>0</th>\n",
       "      <td>Ferrari</td>\n",
       "      <td>58</td>\n",
       "      <td>342</td>\n",
       "      <td>17.0</td>\n",
       "    </tr>\n",
       "    <tr>\n",
       "      <th>1</th>\n",
       "      <td>McLaren</td>\n",
       "      <td>48</td>\n",
       "      <td>254</td>\n",
       "      <td>18.9</td>\n",
       "    </tr>\n",
       "    <tr>\n",
       "      <th>2</th>\n",
       "      <td>Williams</td>\n",
       "      <td>33</td>\n",
       "      <td>224</td>\n",
       "      <td>14.7</td>\n",
       "    </tr>\n",
       "    <tr>\n",
       "      <th>3</th>\n",
       "      <td>Tyrrell</td>\n",
       "      <td>22</td>\n",
       "      <td>138</td>\n",
       "      <td>15.9</td>\n",
       "    </tr>\n",
       "  </tbody>\n",
       "</table>\n",
       "</div>"
      ],
      "text/plain": [
       "       name  # Accidents/Collisions  # Races  Accidents-to-Races Ratio\n",
       "0   Ferrari                      58      342                      17.0\n",
       "1   McLaren                      48      254                      18.9\n",
       "2  Williams                      33      224                      14.7\n",
       "3   Tyrrell                      22      138                      15.9"
      ]
     },
     "execution_count": 212,
     "metadata": {},
     "output_type": "execute_result"
    }
   ],
   "source": [
    "merged_df"
   ]
  },
  {
   "cell_type": "code",
   "execution_count": 213,
   "metadata": {},
   "outputs": [
    {
     "data": {
      "image/png": "[encoded data removed]",
      "text/plain": [
       "<Figure size 800x600 with 1 Axes>"
      ]
     },
     "metadata": {},
     "output_type": "display_data"
    }
   ],
   "source": [
    "# Plotting the line plot\n",
    "plt.figure(figsize=(8, 6))\n",
    "plt.plot(merged_df['name'], merged_df['Accidents-to-Races Ratio'], marker='o', linestyle='-', color='skyblue')\n",
    "plt.xlabel('Constructor Name')\n",
    "plt.ylabel('Accidents-to-Races Ratio (%)')\n",
    "plt.title('Accidents-to-Races Ratio for Top Constructors in Top 5 Race Circuits')\n",
    "plt.xticks(rotation=45)\n",
    "# plt.grid(True)\n",
    "plt.tight_layout()\n",
    "# Adding data labels to each data point\n",
    "for i, txt in enumerate(merged_df['Accidents-to-Races Ratio']):\n",
    "    plt.text(i, txt, f'{txt}', ha='center', va='bottom')\n",
    "\n",
    "# Show plot\n",
    "plt.show()"
   ]
  },
  {
   "cell_type": "code",
   "execution_count": 214,
   "metadata": {},
   "outputs": [],
   "source": [
    "# Grouping by 'Status' column and summing up the values\n",
    "status_summary = accidents_top5.groupby('status')['raceId'].nunique().reset_index(name='Sum')"
   ]
  },
  {
   "cell_type": "code",
   "execution_count": 215,
   "metadata": {},
   "outputs": [
    {
     "data": {
      "text/html": [
       "<div>\n",
       "<style scoped>\n",
       "    .dataframe tbody tr th:only-of-type {\n",
       "        vertical-align: middle;\n",
       "    }\n",
       "\n",
       "    .dataframe tbody tr th {\n",
       "        vertical-align: top;\n",
       "    }\n",
       "\n",
       "    .dataframe thead th {\n",
       "        text-align: right;\n",
       "    }\n",
       "</style>\n",
       "<table border=\"1\" class=\"dataframe\">\n",
       "  <thead>\n",
       "    <tr style=\"text-align: right;\">\n",
       "      <th></th>\n",
       "      <th>status</th>\n",
       "      <th>Sum</th>\n",
       "    </tr>\n",
       "  </thead>\n",
       "  <tbody>\n",
       "    <tr>\n",
       "      <th>0</th>\n",
       "      <td>Accident</td>\n",
       "      <td>162</td>\n",
       "    </tr>\n",
       "    <tr>\n",
       "      <th>1</th>\n",
       "      <td>Collision</td>\n",
       "      <td>105</td>\n",
       "    </tr>\n",
       "  </tbody>\n",
       "</table>\n",
       "</div>"
      ],
      "text/plain": [
       "      status  Sum\n",
       "0   Accident  162\n",
       "1  Collision  105"
      ]
     },
     "execution_count": 215,
     "metadata": {},
     "output_type": "execute_result"
    }
   ],
   "source": [
    "status_summary"
   ]
  },
  {
   "cell_type": "code",
   "execution_count": 216,
   "metadata": {},
   "outputs": [
    {
     "data": {
      "text/plain": [
       "Index(['resultId', 'raceId', 'driverId', 'constructorId', 'number', 'grid',\n",
       "       'position', 'positionText', 'positionOrder', 'points', 'laps', 'time',\n",
       "       'milliseconds', 'fastestLap', 'rank', 'fastestLapTime',\n",
       "       'fastestLapSpeed', 'statusId', 'year', 'racename', 'round', 'date',\n",
       "       'driverRef', 'forename', 'surname', 'nationality_x', 'dob', 'name',\n",
       "       'nationality_y', 'status'],\n",
       "      dtype='object')"
      ]
     },
     "execution_count": 216,
     "metadata": {},
     "output_type": "execute_result"
    }
   ],
   "source": [
    "accidents_top5.columns"
   ]
  },
  {
   "cell_type": "code",
   "execution_count": 217,
   "metadata": {},
   "outputs": [],
   "source": [
    "from numpy.polynomial import Polynomial\n",
    "from sklearn.metrics import r2_score"
   ]
  },
  {
   "cell_type": "code",
   "execution_count": 218,
   "metadata": {},
   "outputs": [],
   "source": [
    "temp_df = HW[(HW['statusId'].isin([3, 4]))]"
   ]
  },
  {
   "cell_type": "code",
   "execution_count": 219,
   "metadata": {},
   "outputs": [],
   "source": [
    "# # Getting a count of races from 1950 - 2023 and sorted in descending and fitered to top 5 Races \n",
    "# races_year = temp_df.groupby('year')['raceId'].nunique().reset_index(name='# Races').sort_values(by='year', ascending=True)\n",
    "# # _numRaces = races.head(5)\n",
    "# # races_year = races_year.sort_values(by = 'year')\n",
    "# races_year"
   ]
  },
  {
   "cell_type": "code",
   "execution_count": 220,
   "metadata": {},
   "outputs": [
    {
     "data": {
      "text/html": [
       "<div>\n",
       "<style scoped>\n",
       "    .dataframe tbody tr th:only-of-type {\n",
       "        vertical-align: middle;\n",
       "    }\n",
       "\n",
       "    .dataframe tbody tr th {\n",
       "        vertical-align: top;\n",
       "    }\n",
       "\n",
       "    .dataframe thead th {\n",
       "        text-align: right;\n",
       "    }\n",
       "</style>\n",
       "<table border=\"1\" class=\"dataframe\">\n",
       "  <thead>\n",
       "    <tr style=\"text-align: right;\">\n",
       "      <th></th>\n",
       "      <th>year</th>\n",
       "      <th># Accidents</th>\n",
       "    </tr>\n",
       "  </thead>\n",
       "  <tbody>\n",
       "    <tr>\n",
       "      <th>0</th>\n",
       "      <td>1950</td>\n",
       "      <td>13</td>\n",
       "    </tr>\n",
       "    <tr>\n",
       "      <th>1</th>\n",
       "      <td>1951</td>\n",
       "      <td>9</td>\n",
       "    </tr>\n",
       "    <tr>\n",
       "      <th>2</th>\n",
       "      <td>1952</td>\n",
       "      <td>5</td>\n",
       "    </tr>\n",
       "    <tr>\n",
       "      <th>3</th>\n",
       "      <td>1953</td>\n",
       "      <td>13</td>\n",
       "    </tr>\n",
       "    <tr>\n",
       "      <th>4</th>\n",
       "      <td>1954</td>\n",
       "      <td>13</td>\n",
       "    </tr>\n",
       "    <tr>\n",
       "      <th>...</th>\n",
       "      <td>...</td>\n",
       "      <td>...</td>\n",
       "    </tr>\n",
       "    <tr>\n",
       "      <th>69</th>\n",
       "      <td>2019</td>\n",
       "      <td>21</td>\n",
       "    </tr>\n",
       "    <tr>\n",
       "      <th>70</th>\n",
       "      <td>2020</td>\n",
       "      <td>18</td>\n",
       "    </tr>\n",
       "    <tr>\n",
       "      <th>71</th>\n",
       "      <td>2021</td>\n",
       "      <td>26</td>\n",
       "    </tr>\n",
       "    <tr>\n",
       "      <th>72</th>\n",
       "      <td>2022</td>\n",
       "      <td>18</td>\n",
       "    </tr>\n",
       "    <tr>\n",
       "      <th>73</th>\n",
       "      <td>2023</td>\n",
       "      <td>9</td>\n",
       "    </tr>\n",
       "  </tbody>\n",
       "</table>\n",
       "<p>74 rows × 2 columns</p>\n",
       "</div>"
      ],
      "text/plain": [
       "    year  # Accidents\n",
       "0   1950           13\n",
       "1   1951            9\n",
       "2   1952            5\n",
       "3   1953           13\n",
       "4   1954           13\n",
       "..   ...          ...\n",
       "69  2019           21\n",
       "70  2020           18\n",
       "71  2021           26\n",
       "72  2022           18\n",
       "73  2023            9\n",
       "\n",
       "[74 rows x 2 columns]"
      ]
     },
     "execution_count": 220,
     "metadata": {},
     "output_type": "execute_result"
    }
   ],
   "source": [
    "# Getting a count of races from 1950 - 2023 and sorted in descending and fitered to top 5 Races \n",
    "accidents_year = temp_df.groupby('year')['status'].count().reset_index(name='# Accidents').sort_values(by='year', ascending=True)\n",
    "# _numRaces = races.head(5)\n",
    "# races_year = races_year.sort_values(by = 'year')\n",
    "accidents_year"
   ]
  },
  {
   "cell_type": "code",
   "execution_count": 221,
   "metadata": {},
   "outputs": [
    {
     "data": {
      "image/png": "[encoded data removed]",
      "text/plain": [
       "<Figure size 1000x600 with 1 Axes>"
      ]
     },
     "metadata": {},
     "output_type": "display_data"
    }
   ],
   "source": [
    "# Plotting the number of accidents over time with a trendline\n",
    "plt.figure(figsize=(10, 6))\n",
    "plt.scatter(accidents_year['year'], accidents_year['# Accidents'], color='skyblue', label='Accidents')\n",
    "plt.xlabel('Years')\n",
    "plt.ylabel('Number of Accidents')\n",
    "plt.title('Number of Accidents Over Time in all Circuits')\n",
    "\n",
    "# Calculate the trendline using polynomial regression (adjust the degree as needed)\n",
    "degree = 1  # Linear regression\n",
    "p = np.polyfit(accidents_year['year'], accidents_year['# Accidents'], degree)\n",
    "trendline = np.polyval(p, accidents_year['year'])\n",
    "\n",
    "# Plotting the trendline\n",
    "plt.plot(accidents_year['year'], trendline, color='red', label='Trendline')\n",
    "\n",
    "# Calculate slope and R-squared (R2) value\n",
    "slope, intercept = p\n",
    "r2_value = r2_score(accidents_year['# Accidents'], trendline)\n",
    "\n",
    "# Display slope and R2 value on the plot\n",
    "plt.text(0.5, 0.9, f'Slope: {slope:.2f}\\nR-squared: {r2_value:.2f}', transform=plt.gca().transAxes, fontsize=10)\n",
    "\n",
    "plt.legend()\n",
    "plt.xticks(rotation=45)\n",
    "plt.tight_layout()\n",
    "\n",
    "# Show plot\n",
    "plt.show()"
   ]
  },
  {
   "cell_type": "code",
   "execution_count": 222,
   "metadata": {},
   "outputs": [],
   "source": [
    "# filtering the dataframne to Top 5 Race Circuits\n",
    "filtered_temp = temp_df[(temp_df['racename'].isin(racename_list))]"
   ]
  },
  {
   "cell_type": "code",
   "execution_count": 223,
   "metadata": {},
   "outputs": [],
   "source": [
    "# Getting a count of races from 1950 - 2023 and sorted in descending and fitered to top 5 Races \n",
    "accidents_year_top5 = filtered_temp.groupby('year')['status'].count().reset_index(name='# Accidents').sort_values(by='year', ascending=True)\n",
    "# _numRaces = races.head(5)\n",
    "# races_year = races_year.sort_values(by = 'year')\n",
    "# accidents_year_top5"
   ]
  },
  {
   "cell_type": "code",
   "execution_count": 224,
   "metadata": {},
   "outputs": [
    {
     "data": {
      "image/png": "[encoded data removed]",
      "text/plain": [
       "<Figure size 1000x600 with 1 Axes>"
      ]
     },
     "metadata": {},
     "output_type": "display_data"
    }
   ],
   "source": [
    "# Plotting the number of accidents over time with a trendline\n",
    "plt.figure(figsize=(10, 6))\n",
    "plt.scatter(accidents_year_top5['year'], accidents_year_top5[\"# Accidents\"], color='skyblue', label='Accidents')\n",
    "plt.xlabel('Years')\n",
    "plt.ylabel('Number of Accidents')\n",
    "plt.title('Number of Accidents Over Time in Top 5 Circuits')\n",
    "\n",
    "# Calculate the trendline using polynomial regression (adjust the degree as needed)\n",
    "degree = 1  # Linear regression\n",
    "p = np.polyfit(accidents_year_top5['year'], accidents_year_top5[\"# Accidents\"], degree)\n",
    "trendline = np.polyval(p, accidents_year_top5['year'])\n",
    "\n",
    "# Plotting the trendline\n",
    "plt.plot(accidents_year_top5['year'], trendline, color='red', label='Trendline')\n",
    "\n",
    "# Calculate slope and R-squared (R2) value\n",
    "slope, intercept = p\n",
    "r2_value = r2_score(accidents_year_top5[\"# Accidents\"], trendline)\n",
    "\n",
    "# Display slope and R2 value on the plot\n",
    "plt.text(0.5, 0.9, f'Slope: {slope:.2f}\\nR-squared: {r2_value:.2f}', transform=plt.gca().transAxes, fontsize=10)\n",
    "\n",
    "plt.legend()\n",
    "plt.xticks(rotation=45)\n",
    "plt.tight_layout()\n",
    "\n",
    "# Show plot\n",
    "plt.show()"
   ]
  }
 ],
 "metadata": {
  "kernelspec": {
   "display_name": "Python 3 (ipykernel)",
   "language": "python",
   "name": "python3"
  },
  "language_info": {
   "codemirror_mode": {
    "name": "ipython",
    "version": 3
   },
   "file_extension": ".py",
   "mimetype": "text/x-python",
   "name": "python",
   "nbconvert_exporter": "python",
   "pygments_lexer": "ipython3",
   "version": "3.11.5"
  }
 },
 "nbformat": 4,
 "nbformat_minor": 5
}
